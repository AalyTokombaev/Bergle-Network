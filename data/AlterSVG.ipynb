{
 "cells": [
  {
   "cell_type": "code",
   "execution_count": 44,
   "id": "0734900e",
   "metadata": {},
   "outputs": [],
   "source": [
    "import re\n",
    "import os"
   ]
  },
  {
   "cell_type": "code",
   "execution_count": 45,
   "id": "92c46400",
   "metadata": {},
   "outputs": [],
   "source": [
    "# Read file"
   ]
  },
  {
   "cell_type": "code",
   "execution_count": 46,
   "id": "aa46775e",
   "metadata": {},
   "outputs": [],
   "source": [
    "with open(\"Standard2.svg\") as f:\n",
    "    filecontent = f.read().split(\"<defs/>\\n \")"
   ]
  },
  {
   "cell_type": "code",
   "execution_count": 47,
   "id": "5a4fcbe2",
   "metadata": {
    "scrolled": true
   },
   "outputs": [
    {
     "data": {
      "text/plain": [
       "94"
      ]
     },
     "execution_count": 47,
     "metadata": {},
     "output_type": "execute_result"
    }
   ],
   "source": [
    "len(filecontent)"
   ]
  },
  {
   "cell_type": "code",
   "execution_count": null,
   "id": "adff9bdb",
   "metadata": {},
   "outputs": [],
   "source": []
  },
  {
   "cell_type": "code",
   "execution_count": 48,
   "id": "bd47498a",
   "metadata": {},
   "outputs": [],
   "source": [
    "# Find numbers and sort SVG lines"
   ]
  },
  {
   "cell_type": "code",
   "execution_count": 49,
   "id": "ff485950",
   "metadata": {},
   "outputs": [],
   "source": [
    "svgDict = {}"
   ]
  },
  {
   "cell_type": "code",
   "execution_count": 59,
   "id": "bc86e081",
   "metadata": {},
   "outputs": [],
   "source": [
    "for idx, single_svg in enumerate(filecontent):\n",
    "    if idx != 0:\n",
    "        match = re.search(r'fid_(\\d+)', single_svg)\n",
    "        \n",
    "        lines = single_svg.split(\"\\n\")\n",
    "        newLines = []\n",
    "        for idx, line in enumerate(lines):\n",
    "            if line.strip().startswith(\"<g inkscape:groupmode=\\\"layer\\\"\"):\n",
    "                newLines.append(line)\n",
    "            elif line.strip().startswith(\"<g fill-opacity=\\\"1\\\"\"):\n",
    "                l = re.sub(r'transform=\"[^\"]*\"', '', line)\n",
    "                newLines.append(l)\n",
    "            elif line.strip().startswith(\"<path d=\"):\n",
    "                newLines.append(line)\n",
    "        newLines.append(\"\\n</g>\\n</g>\")\n",
    "                \n",
    "        \n",
    "        svgDict[int(match.group(1))] = \"\\n\".join(newLines)"
   ]
  },
  {
   "cell_type": "code",
   "execution_count": 60,
   "id": "b4ba87e2",
   "metadata": {},
   "outputs": [],
   "source": [
    "extremePoints = {}"
   ]
  },
  {
   "cell_type": "code",
   "execution_count": null,
   "id": "4c09c64c",
   "metadata": {},
   "outputs": [],
   "source": []
  },
  {
   "cell_type": "code",
   "execution_count": 61,
   "id": "15f74335",
   "metadata": {},
   "outputs": [
    {
     "data": {
      "text/plain": [
       "'<g inkscape:groupmode=\"layer\" stroke-width=\"1\" stroke-linejoin=\"bevel\" stroke-linecap=\"square\" inkscape:label=\"Map 1: fid_1\" fill=\"none\" stroke=\"black\" id=\"Map 1: fid_1\" fill-rule=\"evenodd\">\\n  <g fill-opacity=\"1\" stroke-width=\"2\" stroke-linejoin=\"bevel\" font-weight=\"400\" stroke-linecap=\"square\" font-size=\"83.3333\" font-style=\"normal\" fill=\"#8d5a99\" stroke-opacity=\"1\"  font-family=\"Noto Sans\" stroke=\"#232323\">\\n   <path d=\"M3472.71,3180.42 L3542.43,3190.34 L3538.74,3142.73 L3546.11,3141.88 L3542.71,3121.76 L3550.65,3115.52 L3542.43,3086.62 L3548.38,3072.44 L3559.15,3057.14 L3554.05,3038.44 L3532.51,3005.84 L3521.46,3020.3 L3507,3027.67 L3506.44,2989.97 L3478.09,2935.27 L3467.04,2934.14 L3461.94,2946.89 L3463.64,2960.21 L3459.11,2961.35 L3407.81,2927.62 L3394.2,2948.03 L3386.55,2942.93 L3372.1,2965.03 L3407.52,2985.15 L3433.03,3014.91 L3472.71,3180.42\" vector-effect=\"none\" fill-rule=\"evenodd\"/>\\n\\n</g>\\n</g>'"
      ]
     },
     "execution_count": 61,
     "metadata": {},
     "output_type": "execute_result"
    }
   ],
   "source": [
    "svgDict[1]"
   ]
  },
  {
   "cell_type": "code",
   "execution_count": 23,
   "id": "e02f1534",
   "metadata": {},
   "outputs": [
    {
     "data": {
      "text/plain": [
       "'<g inkscape:groupmode=\"layer\" stroke-width=\"1\" stroke-linejoin=\"bevel\" stroke-linecap=\"square\" inkscape:label=\"Map 1: fid_1\" fill=\"none\" stroke=\"black\" id=\"Map 1: fid_1\" fill-rule=\"evenodd\">\\n  <g stroke-width=\"1\" stroke-linejoin=\"bevel\" font-weight=\"400\" stroke-linecap=\"square\" font-size=\"83.3333\" font-style=\"normal\" fill=\"none\" stroke-opacity=\"1\" transform=\"matrix(1,0,0,1,0,0)\" font-family=\"Noto Sans\" stroke=\"#000000\"/>\\n  <g stroke-width=\"1\" stroke-linejoin=\"bevel\" font-weight=\"400\" stroke-linecap=\"square\" font-size=\"83.3333\" font-style=\"normal\" fill=\"none\" stroke-opacity=\"1\" transform=\"matrix(1,0,0,1,0,0)\" font-family=\"Noto Sans\" stroke=\"#000000\"/>\\n  <g stroke-width=\"1\" stroke-linejoin=\"bevel\" font-weight=\"400\" stroke-linecap=\"square\" font-size=\"83.3333\" font-style=\"normal\" fill=\"none\" stroke-opacity=\"1\" transform=\"matrix(23.619,0,0,23.619,-728.486,-229.753)\" font-family=\"Noto Sans\" stroke=\"#000000\"/>\\n  <g stroke-width=\"1\" stroke-linejoin=\"bevel\" font-weight=\"400\" stroke-linecap=\"square\" font-size=\"83.3333\" font-style=\"normal\" fill=\"none\" stroke-opacity=\"1\" transform=\"matrix(23.619,0,0,23.619,-728.486,-229.753)\" font-family=\"Noto Sans\" stroke=\"#000000\"/>\\n  <g fill-opacity=\"0\" font-weight=\"400\" font-size=\"83.3333\" font-style=\"normal\" fill=\"#000000\" transform=\"matrix(0.999873,0,0,0.999873,-728.486,-229.753)\" font-family=\"Noto Sans\" stroke=\"none\">\\n   <rect y=\"0\" width=\"8098\" height=\"5627\" x=\"0\"/>\\n  </g>\\n  <g stroke-width=\"1\" stroke-linejoin=\"bevel\" font-weight=\"400\" stroke-linecap=\"square\" font-size=\"83.3333\" font-style=\"normal\" fill=\"none\" stroke-opacity=\"1\" transform=\"matrix(0.999873,0,0,0.999873,-728.486,-229.753)\" font-family=\"Noto Sans\" stroke=\"#000000\"/>\\n  <g fill-opacity=\"1\" stroke-width=\"2\" stroke-linejoin=\"bevel\" font-weight=\"400\" stroke-linecap=\"square\" font-size=\"83.3333\" font-style=\"normal\" fill=\"#8d5a99\" stroke-opacity=\"1\" transform=\"matrix(0.999873,0,0,0.999873,-728.486,-229.753)\" font-family=\"Noto Sans\" stroke=\"#232323\">\\n   <path d=\"M3472.71,3180.42 L3542.43,3190.34 L3538.74,3142.73 L3546.11,3141.88 L3542.71,3121.76 L3550.65,3115.52 L3542.43,3086.62 L3548.38,3072.44 L3559.15,3057.14 L3554.05,3038.44 L3532.51,3005.84 L3521.46,3020.3 L3507,3027.67 L3506.44,2989.97 L3478.09,2935.27 L3467.04,2934.14 L3461.94,2946.89 L3463.64,2960.21 L3459.11,2961.35 L3407.81,2927.62 L3394.2,2948.03 L3386.55,2942.93 L3372.1,2965.03 L3407.52,2985.15 L3433.03,3014.91 L3472.71,3180.42\" vector-effect=\"none\" fill-rule=\"evenodd\"/>\\n  </g>\\n  <g stroke-width=\"1\" stroke-linejoin=\"bevel\" font-weight=\"400\" stroke-linecap=\"square\" font-size=\"83.3333\" font-style=\"normal\" fill=\"none\" stroke-opacity=\"1\" transform=\"matrix(0.999873,0,0,0.999873,-728.486,-229.753)\" font-family=\"Noto Sans\" stroke=\"#000000\"/>\\n  <g stroke-width=\"1\" stroke-linejoin=\"bevel\" font-weight=\"400\" stroke-linecap=\"square\" font-size=\"83.3333\" font-style=\"normal\" fill=\"none\" stroke-opacity=\"1\" transform=\"matrix(23.619,0,0,23.619,-728.486,-229.753)\" font-family=\"Noto Sans\" stroke=\"#000000\"/>\\n  <g stroke-width=\"1\" stroke-linejoin=\"bevel\" font-weight=\"400\" stroke-linecap=\"square\" font-size=\"83.3333\" font-style=\"normal\" fill=\"none\" stroke-opacity=\"1\" transform=\"matrix(23.619,0,0,23.619,-728.486,-229.753)\" font-family=\"Noto Sans\" stroke=\"#000000\"/>\\n  <g stroke-width=\"1\" stroke-linejoin=\"bevel\" font-weight=\"400\" stroke-linecap=\"square\" font-size=\"83.3333\" font-style=\"normal\" fill=\"none\" stroke-opacity=\"1\" transform=\"matrix(23.619,0,0,23.619,-728.486,-229.753)\" font-family=\"Noto Sans\" stroke=\"#000000\"/>\\n  <g stroke-width=\"1\" stroke-linejoin=\"bevel\" font-weight=\"400\" stroke-linecap=\"square\" font-size=\"83.3333\" font-style=\"normal\" fill=\"none\" stroke-opacity=\"1\" transform=\"matrix(1,0,0,1,0,0)\" font-family=\"Noto Sans\" stroke=\"#000000\"/>\\n  <g stroke-width=\"1\" stroke-linejoin=\"bevel\" font-weight=\"400\" stroke-linecap=\"square\" font-size=\"83.3333\" font-style=\"normal\" fill=\"none\" stroke-opacity=\"1\" transform=\"matrix(23.619,0,0,23.619,-728.486,-229.753)\" font-family=\"Noto Sans\" stroke=\"#000000\"/>\\n  <g stroke-width=\"1\" stroke-linejoin=\"bevel\" font-weight=\"400\" stroke-linecap=\"square\" font-size=\"83.3333\" font-style=\"normal\" fill=\"none\" stroke-opacity=\"1\" transform=\"matrix(23.619,0,0,23.619,-728.486,-229.753)\" font-family=\"Noto Sans\" stroke=\"#000000\"/>\\n  <g stroke-width=\"1\" stroke-linejoin=\"bevel\" font-weight=\"400\" stroke-linecap=\"square\" font-size=\"83.3333\" font-style=\"normal\" fill=\"none\" stroke-opacity=\"1\" transform=\"matrix(1,0,0,1,0,0)\" font-family=\"Noto Sans\" stroke=\"#000000\"/>\\n </g>\\n '"
      ]
     },
     "execution_count": 23,
     "metadata": {},
     "output_type": "execute_result"
    }
   ],
   "source": [
    "svgDict[1]"
   ]
  },
  {
   "cell_type": "code",
   "execution_count": null,
   "id": "bf14978b",
   "metadata": {},
   "outputs": [],
   "source": []
  },
  {
   "cell_type": "code",
   "execution_count": 72,
   "id": "d0e877d7",
   "metadata": {},
   "outputs": [],
   "source": [
    "def findExtremePoints(pathstr):\n",
    "    arr = pathstr.split()\n",
    "    min_x = float(\"inf\")\n",
    "    min_y = float(\"inf\")\n",
    "    max_x = float(\"-inf\")\n",
    "    max_y = float(\"-inf\")\n",
    "    for a in arr:\n",
    "        x,y = a.replace(\"L\",\"\").replace(\"M\",\"\").split(\",\")\n",
    "        x = float(x)\n",
    "        y = float(y)\n",
    "        if x > max_x:\n",
    "            max_x = x\n",
    "        if y > max_y:\n",
    "            max_y = y\n",
    "        if x < min_x:\n",
    "            min_x = x\n",
    "        if y < min_y:\n",
    "            min_y = y\n",
    "    #return f\"{round(float(min_x+20), 3)} {round(float(min_y+20), 3)} {round(float(max_x-min_x+40), 3)} {round(float(max_y-min_y+40), 3)}\"\n",
    "    return f\"{round(float(min_x-5), 3)} {round(float(min_y-5), 3)} {round(float(max_x-min_x+10), 3)} {round(float(max_y-min_y+10), 3)}\"\n",
    "    "
   ]
  },
  {
   "cell_type": "code",
   "execution_count": null,
   "id": "67d82987",
   "metadata": {},
   "outputs": [],
   "source": []
  },
  {
   "cell_type": "code",
   "execution_count": 73,
   "id": "b37b4a51",
   "metadata": {},
   "outputs": [],
   "source": [
    "# Change size of shape"
   ]
  },
  {
   "cell_type": "code",
   "execution_count": 74,
   "id": "63e6849b",
   "metadata": {
    "scrolled": true
   },
   "outputs": [],
   "source": [
    "for idx, line in svgDict.items():\n",
    "    if idx != 0:\n",
    "        #cont = svgDict[idx].split(\"\\n\")\n",
    "        #match = re.search(r'path', line)\n",
    "        pattern = r'<path[^>]*\\s+d=\"([^\"]+)\"'\n",
    "        \n",
    "        matches = re.findall(pattern, line)\n",
    "        \n",
    "        extremePoints[idx] = findExtremePoints(matches[0])"
   ]
  },
  {
   "cell_type": "code",
   "execution_count": 75,
   "id": "0b970044",
   "metadata": {
    "scrolled": true
   },
   "outputs": [
    {
     "data": {
      "text/plain": [
       "{59: '3369.75 2587.24 50.05 53.71',\n",
       " 70: '3072.5 1724.32 280.39 186.32',\n",
       " 69: '2996.02 1436.22 251.12 338.13',\n",
       " 68: '3015.42 1245.8 398.56 290.93',\n",
       " 67: '3612.71 1664.2 227.23 230.42',\n",
       " 66: '3417.07 1657.19 224.48 255.28',\n",
       " 65: '3183.52 1512.5 319.73 339.03',\n",
       " 64: '3044.7 1059.1 139.28 197.69',\n",
       " 63: '3252.6 2625.09 93.22 76.82',\n",
       " 62: '3279.9 2666.58 73.65 76.12',\n",
       " 61: '3322.83 2665.75 95.32 76.27',\n",
       " 60: '3298.08 2708.67 81.25 71.47',\n",
       " 71: '3360.99 1985.67 161.97 160.33',\n",
       " 58: '3400.34 2618.49 50.54 73.12',\n",
       " 57: '3309.38 2603.86 103.75 71.02',\n",
       " 56: '3377.31 2640.53 70.57 77.15',\n",
       " 55: '3405.52 2697.89 62.92 67.28',\n",
       " 54: '3366.37 2712.12 89.4 100.01',\n",
       " 53: '3339.19 2734.65 65.8 64.77',\n",
       " 52: '3423.45 2617.67 66.74 72.13',\n",
       " 51: '3391.37 2561.75 111.16 86.32',\n",
       " 50: '3448.24 2674.46 110.66 131.01',\n",
       " 49: '3424.89 2669.77 110.2 146.35',\n",
       " 48: '3436.56 2745.8 92.9 72.42',\n",
       " 82: '3368.09 3802.31 200.15 298.84',\n",
       " 93: '3100.71 4010.14 304.44 385.07',\n",
       " 92: '3379.69 3926.33 344.57 366.08',\n",
       " 91: '3823.48 3736.23 502.14 478.95',\n",
       " 90: '3607.58 3860.95 285.77 247.97',\n",
       " 89: '4215.31 2637.49 534.94 717.71',\n",
       " 88: '4332.48 2892.2 541.3 433.22',\n",
       " 87: '3773.19 3128.86 502.18 530.93',\n",
       " 86: '3737.78 3511.04 269.81 395.31',\n",
       " 85: '3477.64 3619.0 180.35 310.75',\n",
       " 84: '3561.2 3643.34 238.88 287.32',\n",
       " 83: '3546.72 3790.05 161.66 220.88',\n",
       " 47: '3282.29 2747.77 125.13 104.99',\n",
       " 81: '3196.69 3853.88 194.23 231.48',\n",
       " 80: '3072.34 3887.1 173.83 238.97',\n",
       " 79: '2915.42 3856.51 248.51 343.09',\n",
       " 78: '2692.37 3831.92 303.78 356.74',\n",
       " 77: '2849.46 3596.53 171.36 143.57',\n",
       " 76: '3807.59 1832.82 621.99 1319.33',\n",
       " 75: '3627.93 1785.57 320.67 453.69',\n",
       " 74: '3462.0 2072.19 382.69 345.07',\n",
       " 73: '3124.64 2047.02 268.8 399.48',\n",
       " 72: '3125.79 1971.53 384.67 247.5',\n",
       " 12: '2737.39 3015.65 63.89 160.28',\n",
       " 23: '3584.23 3177.89 120.21 235.79',\n",
       " 22: '3547.03 3268.81 131.05 242.11',\n",
       " 21: '3589.54 3336.3 332.66 339.46',\n",
       " 20: '3641.62 3022.51 135.51 305.29',\n",
       " 19: '3643.0 3227.68 128.61 296.1',\n",
       " 18: '3473.38 3322.43 93.32 112.5',\n",
       " 17: '3385.38 3322.85 119.36 160.12',\n",
       " 16: '3400.79 3136.88 199.39 266.97',\n",
       " 15: '3537.71 3052.14 149.19 181.66',\n",
       " 14: '3500.48 2855.01 202.15 217.46',\n",
       " 13: '3473.09 2925.58 190.43 208.1',\n",
       " 24: '5226.99 2191.4 508.23 555.0',\n",
       " 11: '2655.56 3020.01 119.68 239.88',\n",
       " 10: '2336.4 2759.52 331.5 357.74',\n",
       " 9: '2593.7 2746.23 174.52 301.21',\n",
       " 8: '2644.29 2662.8 182.07 367.95',\n",
       " 7: '2757.69 2618.17 196.95 544.48',\n",
       " 6: '2892.35 2674.39 163.36 276.12',\n",
       " 5: '3025.3 2689.9 73.77 230.0',\n",
       " 4: '3085.67 2715.34 136.69 120.82',\n",
       " 3: '3168.28 2777.27 171.55 180.89',\n",
       " 2: '3294.69 2864.27 118.12 105.76',\n",
       " 35: '3628.23 3443.85 251.46 297.7',\n",
       " 46: '3382.29 2782.72 152.27 131.1',\n",
       " 45: '3333.77 2828.94 145.52 107.04',\n",
       " 44: '3486.07 2755.09 186.15 137.98',\n",
       " 43: '3354.49 2374.58 146.84 203.75',\n",
       " 42: '2751.85 3088.03 200.78 406.84',\n",
       " 41: '3134.46 3040.04 204.9 466.41',\n",
       " 40: '2887.89 3131.33 382.41 323.58',\n",
       " 39: '2866.1 2876.64 199.81 355.11',\n",
       " 38: '3206.84 2930.03 270.87 621.5',\n",
       " 37: '3243.16 3465.06 170.07 211.03',\n",
       " 36: '3205.23 2923.79 109.48 154.74',\n",
       " 1: '3367.1 2922.62 197.05 272.72',\n",
       " 34: '3487.3 1565.84 284.63 229.73',\n",
       " 33: '3677.75 1184.62 478.06 538.31',\n",
       " 32: '3368.27 1292.07 361.14 373.9',\n",
       " 31: '3693.06 1508.03 412.58 351.79',\n",
       " 30: '3534.49 1015.74 327.99 366.78',\n",
       " 29: '3151.88 861.847 455.53 421.623',\n",
       " 28: '4295.45 2111.69 304.18 602.19',\n",
       " 27: '4021.67 1667.02 333.94 462.32',\n",
       " 26: '4365.17 1928.79 328.3 463.17',\n",
       " 25: '4634.16 2307.88 626.63 367.95'}"
      ]
     },
     "execution_count": 75,
     "metadata": {},
     "output_type": "execute_result"
    }
   ],
   "source": [
    "extremePoints"
   ]
  },
  {
   "cell_type": "code",
   "execution_count": null,
   "id": "05222c5e",
   "metadata": {},
   "outputs": [],
   "source": []
  },
  {
   "cell_type": "code",
   "execution_count": null,
   "id": "b3e85ca0",
   "metadata": {},
   "outputs": [],
   "source": []
  },
  {
   "cell_type": "code",
   "execution_count": 76,
   "id": "8ba0b672",
   "metadata": {},
   "outputs": [],
   "source": [
    "# Write SVGs"
   ]
  },
  {
   "cell_type": "code",
   "execution_count": 77,
   "id": "c3b02049",
   "metadata": {
    "scrolled": true
   },
   "outputs": [],
   "source": [
    "for idx in range(1,len(filecontent)):\n",
    "    filename = f\"../public/images/countries/{idx}/vector.svg\"\n",
    "    #os.makedirs(os.path.dirname(filename), exist_ok=True)\n",
    "    with open(f\"{filename}\",\"w\") as toWrite:\n",
    "        toWrite.write(f\"<svg xmlns=\\\"http://www.w3.org/2000/svg\\\" version=\\\"1.2\\\" baseProfile=\\\"tiny\\\" xmlns:inkscape=\\\"http://www.inkscape.org/namespaces/inkscape\\\" width=\\\"315.045mm\\\" viewBox=\\\"{extremePoints[idx]}\\\" height=\\\"227.076mm\\\" xmlns:xlink=\\\"http://www.w3.org/1999/xlink\\\" xmlns:cc=\\\"http://creativecommons.org/ns#\\\">\\n\")\n",
    "        toWrite.write(f\"{svgDict[idx]}\\n\")\n",
    "        toWrite.write(\"</svg>\")"
   ]
  },
  {
   "cell_type": "code",
   "execution_count": null,
   "id": "d8d0c71e",
   "metadata": {},
   "outputs": [],
   "source": []
  }
 ],
 "metadata": {
  "kernelspec": {
   "display_name": "Python 3 (ipykernel)",
   "language": "python",
   "name": "python3"
  },
  "language_info": {
   "codemirror_mode": {
    "name": "ipython",
    "version": 3
   },
   "file_extension": ".py",
   "mimetype": "text/x-python",
   "name": "python",
   "nbconvert_exporter": "python",
   "pygments_lexer": "ipython3",
   "version": "3.11.4"
  }
 },
 "nbformat": 4,
 "nbformat_minor": 5
}
