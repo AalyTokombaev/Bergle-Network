{
 "cells": [
  {
   "cell_type": "code",
   "execution_count": 1,
   "id": "0734900e",
   "metadata": {},
   "outputs": [],
   "source": [
    "import re\n",
    "import os"
   ]
  },
  {
   "cell_type": "code",
   "execution_count": 2,
   "id": "92c46400",
   "metadata": {},
   "outputs": [],
   "source": [
    "# Read file"
   ]
  },
  {
   "cell_type": "code",
   "execution_count": 3,
   "id": "aa46775e",
   "metadata": {},
   "outputs": [],
   "source": [
    "with open(\"Standard1.svg\") as f:\n",
    "    filecontent = f.read().split(\"<defs/>\\n \")"
   ]
  },
  {
   "cell_type": "code",
   "execution_count": 4,
   "id": "5a4fcbe2",
   "metadata": {
    "scrolled": true
   },
   "outputs": [
    {
     "data": {
      "text/plain": [
       "94"
      ]
     },
     "execution_count": 4,
     "metadata": {},
     "output_type": "execute_result"
    }
   ],
   "source": [
    "len(filecontent)"
   ]
  },
  {
   "cell_type": "code",
   "execution_count": null,
   "id": "adff9bdb",
   "metadata": {},
   "outputs": [],
   "source": []
  },
  {
   "cell_type": "code",
   "execution_count": 5,
   "id": "bd47498a",
   "metadata": {},
   "outputs": [],
   "source": [
    "# Find numbers and sort SVG lines"
   ]
  },
  {
   "cell_type": "code",
   "execution_count": 6,
   "id": "ff485950",
   "metadata": {},
   "outputs": [],
   "source": [
    "svgDict = {}"
   ]
  },
  {
   "cell_type": "code",
   "execution_count": 7,
   "id": "bc86e081",
   "metadata": {},
   "outputs": [],
   "source": [
    "for idx, line in enumerate(filecontent):\n",
    "    if idx != 0:\n",
    "        match = re.search(r'fid_(\\d+)', line)\n",
    "        svgDict[int(match.group(1))] = line"
   ]
  },
  {
   "cell_type": "code",
   "execution_count": 8,
   "id": "b4ba87e2",
   "metadata": {},
   "outputs": [],
   "source": [
    "extremePoints = {}"
   ]
  },
  {
   "cell_type": "code",
   "execution_count": null,
   "id": "15f74335",
   "metadata": {},
   "outputs": [],
   "source": []
  },
  {
   "cell_type": "code",
   "execution_count": 9,
   "id": "d0e877d7",
   "metadata": {},
   "outputs": [],
   "source": [
    "def findExtremePoints(pathstr):\n",
    "    arr = pathstr.split()\n",
    "    min_x = float(\"inf\")\n",
    "    min_y = float(\"inf\")\n",
    "    max_x = float(\"-inf\")\n",
    "    max_y = float(\"-inf\")\n",
    "    for a in arr:\n",
    "        x,y = a.replace(\"L\",\"\").replace(\"M\",\"\").split(\",\")\n",
    "        x = float(x)\n",
    "        y = float(y)\n",
    "        if x > max_x:\n",
    "            max_x = x\n",
    "        if y > max_y:\n",
    "            max_y = y\n",
    "        if x < min_x:\n",
    "            min_x = x\n",
    "        if y < min_y:\n",
    "            min_y = y\n",
    "    return f\"{round(float(min_x+20), 3)} {round(float(min_y+20), 3)} {round(float(max_x-min_x+40), 3)} {round(float(max_y-min_y+40), 3)}\"\n",
    "    "
   ]
  },
  {
   "cell_type": "code",
   "execution_count": null,
   "id": "67d82987",
   "metadata": {},
   "outputs": [],
   "source": []
  },
  {
   "cell_type": "code",
   "execution_count": 10,
   "id": "b37b4a51",
   "metadata": {},
   "outputs": [],
   "source": [
    "# Change size of shape"
   ]
  },
  {
   "cell_type": "code",
   "execution_count": 11,
   "id": "63e6849b",
   "metadata": {
    "scrolled": true
   },
   "outputs": [],
   "source": [
    "for idx, line in svgDict.items():\n",
    "    if idx != 0:\n",
    "        #cont = svgDict[idx].split(\"\\n\")\n",
    "        #match = re.search(r'path', line)\n",
    "        pattern = r'<path[^>]*\\s+d=\"([^\"]+)\"'\n",
    "        \n",
    "        matches = re.findall(pattern, line)\n",
    "        \n",
    "        extremePoints[idx] = findExtremePoints(matches[0])"
   ]
  },
  {
   "cell_type": "code",
   "execution_count": 12,
   "id": "0b970044",
   "metadata": {
    "scrolled": true
   },
   "outputs": [
    {
     "data": {
      "text/plain": [
       "{59: '2911.51 2582.29 76.58 79.92',\n",
       " 70: '2640.07 1794.28 286.92 201.01',\n",
       " 69: '2570.23 1531.19 260.19 339.64',\n",
       " 68: '2587.95 1357.3 394.82 296.54',\n",
       " 67: '3133.39 1739.38 238.37 241.28',\n",
       " 66: '2954.73 1732.98 235.86 263.98',\n",
       " 65: '2741.45 1600.84 322.85 340.47',\n",
       " 64: '2614.69 1186.81 158.05 211.39',\n",
       " 63: '2804.54 2616.85 116.0 101.02',\n",
       " 62: '2829.47 2654.74 98.13 100.38',\n",
       " 61: '2868.67 2653.99 117.91 100.51',\n",
       " 60: '2846.07 2693.17 105.07 96.14',\n",
       " 71: '2903.52 2032.94 178.78 177.28',\n",
       " 58: '2939.45 2610.83 77.02 97.64',\n",
       " 57: '2856.39 2597.46 125.61 95.72',\n",
       " 56: '2918.42 2630.95 95.31 101.32',\n",
       " 55: '2944.18 2683.34 88.33 92.3',\n",
       " 54: '2908.43 2696.33 112.51 122.19',\n",
       " 53: '2883.61 2716.9 90.96 90.02',\n",
       " 52: '2960.55 2610.08 91.82 96.73',\n",
       " 51: '2931.26 2559.01 132.38 109.69',\n",
       " 50: '2983.2 2661.93 131.92 150.51',\n",
       " 49: '2961.87 2657.65 131.5 164.52',\n",
       " 48: '2972.53 2727.08 115.7 97.0',\n",
       " 82: '2910.0 3691.87 213.64 303.77',\n",
       " 93: '2665.84 3881.66 308.87 382.52',\n",
       " 92: '2920.59 3805.13 345.53 365.17',\n",
       " 91: '3325.85 3631.53 489.43 468.24',\n",
       " 90: '3128.71 3745.42 291.82 257.32',\n",
       " 89: '3683.67 2628.17 519.37 686.27',\n",
       " 88: '3790.68 2860.77 525.17 426.49',\n",
       " 87: '3279.94 3076.89 489.45 515.7',\n",
       " 86: '3247.6 3425.89 277.25 391.87',\n",
       " 85: '3010.04 3524.48 195.57 314.64',\n",
       " 84: '3086.35 3546.7 249.01 293.25',\n",
       " 83: '3073.13 3680.68 178.49 232.57',\n",
       " 47: '2831.65 2728.88 145.13 126.74',\n",
       " 81: '2753.49 3738.96 208.23 242.26',\n",
       " 80: '2639.93 3769.31 189.61 249.09',\n",
       " 79: '2496.63 3741.37 257.8 344.17',\n",
       " 78: '2292.95 3718.91 308.27 356.64',\n",
       " 77: '2436.39 3503.96 187.36 161.97',\n",
       " 76: '3311.35 1893.36 598.86 1235.67',\n",
       " 75: '3147.29 1850.22 323.7 445.16',\n",
       " 74: '2995.76 2111.95 380.34 345.98',\n",
       " 73: '2687.68 2088.96 276.34 395.67',\n",
       " 72: '2688.73 2020.02 382.15 256.89',\n",
       " 12: '2334.06 2973.51 89.2 177.23',\n",
       " 23: '3107.38 3121.66 140.64 246.19',\n",
       " 22: '3073.41 3204.69 150.54 251.96',\n",
       " 21: '3112.23 3266.32 334.65 340.86',\n",
       " 20: '3159.78 2979.77 154.62 309.66',\n",
       " 19: '3161.05 3167.13 148.31 301.27',\n",
       " 18: '3006.15 3253.65 116.09 133.61',\n",
       " 17: '2925.79 3254.04 139.87 177.09',\n",
       " 16: '2939.86 3084.21 212.95 274.66',\n",
       " 15: '3064.9 3006.83 167.11 196.76',\n",
       " 14: '3030.9 2826.81 215.47 229.45',\n",
       " 13: '3005.89 2891.26 204.76 220.9',\n",
       " 24: '4607.53 2220.81 494.98 537.69',\n",
       " 11: '2259.33 2977.49 140.16 249.92',\n",
       " 10: '1967.88 2739.61 333.58 357.56',\n",
       " 9: '2202.84 2727.48 190.24 305.92',\n",
       " 8: '2249.04 2651.29 197.13 366.88',\n",
       " 7: '2352.59 2610.53 210.72 528.08',\n",
       " 6: '2475.56 2661.87 180.05 283.02',\n",
       " 5: '2596.97 2676.04 98.24 240.9',\n",
       " 4: '2652.1 2699.27 155.69 141.19',\n",
       " 3: '2727.54 2755.82 187.52 196.06',\n",
       " 2: '2842.97 2835.27 138.74 127.45',\n",
       " 35: '3147.56 3364.53 260.5 302.73',\n",
       " 46: '2922.97 2760.8 169.92 150.58',\n",
       " 45: '2878.66 2803.01 163.76 128.61',\n",
       " 44: '3017.74 2735.57 200.86 156.86',\n",
       " 43: '2897.58 2388.09 164.97 216.93',\n",
       " 42: '2347.26 3039.6 214.21 402.39',\n",
       " 41: '2696.65 2995.78 217.98 456.79',\n",
       " 40: '2471.49 3079.15 380.08 326.36',\n",
       " 39: '2451.59 2846.56 213.34 355.16',\n",
       " 38: '2762.75 2895.32 278.22 598.42',\n",
       " 37: '2795.92 3383.9 186.17 223.58',\n",
       " 36: '2761.28 2889.62 130.85 172.17',\n",
       " 1: '2909.1 2888.55 210.81 279.92',\n",
       " 34: '3018.86 1649.56 290.79 240.66',\n",
       " 33: '3192.78 1301.43 467.42 522.45',\n",
       " 32: '2910.16 1399.55 360.67 372.31',\n",
       " 31: '3206.76 1596.76 407.64 352.12',\n",
       " 30: '3061.96 1147.21 330.38 365.81',\n",
       " 29: '2712.56 1006.679 446.85 415.891',\n",
       " 28: '3756.86 2148.02 308.64 580.78',\n",
       " 27: '3506.85 1741.95 335.81 453.06',\n",
       " 26: '3820.52 1980.99 330.68 453.84',\n",
       " 25: '4066.16 2327.18 603.1 366.88'}"
      ]
     },
     "execution_count": 12,
     "metadata": {},
     "output_type": "execute_result"
    }
   ],
   "source": [
    "extremePoints"
   ]
  },
  {
   "cell_type": "code",
   "execution_count": null,
   "id": "05222c5e",
   "metadata": {},
   "outputs": [],
   "source": []
  },
  {
   "cell_type": "code",
   "execution_count": null,
   "id": "b3e85ca0",
   "metadata": {},
   "outputs": [],
   "source": []
  },
  {
   "cell_type": "code",
   "execution_count": 13,
   "id": "8ba0b672",
   "metadata": {},
   "outputs": [],
   "source": [
    "# Write SVGs"
   ]
  },
  {
   "cell_type": "code",
   "execution_count": 15,
   "id": "c3b02049",
   "metadata": {
    "scrolled": true
   },
   "outputs": [],
   "source": [
    "for idx in range(1,len(filecontent)):\n",
    "    filename = f\"../public/images/countries/{idx}/vector.svg\"\n",
    "    #os.makedirs(os.path.dirname(filename), exist_ok=True)\n",
    "    with open(f\"{filename}\",\"w\") as toWrite:\n",
    "        toWrite.write(f\"<svg xmlns=\\\"http://www.w3.org/2000/svg\\\" version=\\\"1.2\\\" baseProfile=\\\"tiny\\\" xmlns:inkscape=\\\"http://www.inkscape.org/namespaces/inkscape\\\" width=\\\"315.045mm\\\" viewBox=\\\"{extremePoints[idx]}\\\" height=\\\"227.076mm\\\" xmlns:xlink=\\\"http://www.w3.org/1999/xlink\\\" xmlns:cc=\\\"http://creativecommons.org/ns#\\\">\\n\")\n",
    "        toWrite.write(f\"{svgDict[idx]}\\n\")\n",
    "        toWrite.write(\"</svg>\")"
   ]
  },
  {
   "cell_type": "code",
   "execution_count": null,
   "id": "d8d0c71e",
   "metadata": {},
   "outputs": [],
   "source": []
  }
 ],
 "metadata": {
  "kernelspec": {
   "display_name": "Python 3 (ipykernel)",
   "language": "python",
   "name": "python3"
  },
  "language_info": {
   "codemirror_mode": {
    "name": "ipython",
    "version": 3
   },
   "file_extension": ".py",
   "mimetype": "text/x-python",
   "name": "python",
   "nbconvert_exporter": "python",
   "pygments_lexer": "ipython3",
   "version": "3.11.4"
  }
 },
 "nbformat": 4,
 "nbformat_minor": 5
}
