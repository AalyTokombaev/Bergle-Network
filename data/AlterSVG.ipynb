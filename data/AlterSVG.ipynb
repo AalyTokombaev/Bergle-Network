{
 "cells": [
  {
   "cell_type": "code",
   "execution_count": 16,
   "id": "0734900e",
   "metadata": {},
   "outputs": [],
   "source": [
    "import re\n",
    "import os"
   ]
  },
  {
   "cell_type": "code",
   "execution_count": 17,
   "id": "92c46400",
   "metadata": {},
   "outputs": [],
   "source": [
    "# Read file"
   ]
  },
  {
   "cell_type": "code",
   "execution_count": 18,
   "id": "aa46775e",
   "metadata": {},
   "outputs": [],
   "source": [
    "with open(\"Standard2.svg\") as f:\n",
    "    filecontent = f.read().split(\"<defs/>\\n \")"
   ]
  },
  {
   "cell_type": "code",
   "execution_count": 19,
   "id": "5a4fcbe2",
   "metadata": {
    "scrolled": true
   },
   "outputs": [],
   "source": [
    "len(filecontent)"
   ]
  },
  {
   "cell_type": "code",
   "execution_count": 20,
   "id": "adff9bdb",
   "metadata": {},
   "outputs": [],
   "source": [
    "# Districts not to be part in the game\n",
    "blocked_stroek = [7, 38]"
   ]
  },
  {
   "cell_type": "code",
   "execution_count": 21,
   "id": "bd47498a",
   "metadata": {},
   "outputs": [],
   "source": [
    "# Find numbers and sort SVG lines"
   ]
  },
  {
   "cell_type": "code",
   "execution_count": 22,
   "id": "ff485950",
   "metadata": {},
   "outputs": [],
   "source": [
    "svgDict = {}"
   ]
  },
  {
   "cell_type": "code",
   "execution_count": 23,
   "id": "bc86e081",
   "metadata": {},
   "outputs": [],
   "source": [
    "for idx, single_svg in enumerate(filecontent):\n",
    "    if idx != 0 and idx not in blocked_stroek:\n",
    "        match = re.search(r'fid_(\\d+)', single_svg)\n",
    "        \n",
    "        lines = single_svg.split(\"\\n\")\n",
    "        newLines = []\n",
    "        for idx, line in enumerate(lines):\n",
    "            if line.strip().startswith(\"<g inkscape:groupmode=\\\"layer\\\"\"):\n",
    "                newLines.append(line)\n",
    "            elif line.strip().startswith(\"<g fill-opacity=\\\"1\\\"\"):\n",
    "                l = re.sub(r'transform=\"[^\"]*\"', '', line)\n",
    "                newLines.append(l)\n",
    "            elif line.strip().startswith(\"<path d=\"):\n",
    "                newLines.append(line)\n",
    "        newLines.append(\"\\n</g>\\n</g>\")\n",
    "                \n",
    "        \n",
    "        svgDict[int(match.group(1))] = \"\\n\".join(newLines)"
   ]
  },
  {
   "cell_type": "code",
   "execution_count": 24,
   "id": "b4ba87e2",
   "metadata": {},
   "outputs": [],
   "source": [
    "extremePoints = {}"
   ]
  },
  {
   "cell_type": "code",
   "execution_count": null,
   "id": "4c09c64c",
   "metadata": {},
   "outputs": [],
   "source": []
  },
  {
   "cell_type": "code",
   "execution_count": 25,
   "id": "d0e877d7",
   "metadata": {},
   "outputs": [],
   "source": [
    "def findExtremePoints(pathstr):\n",
    "    arr = pathstr.split()\n",
    "    min_x = float(\"inf\")\n",
    "    min_y = float(\"inf\")\n",
    "    max_x = float(\"-inf\")\n",
    "    max_y = float(\"-inf\")\n",
    "    for a in arr:\n",
    "        x,y = a.replace(\"L\",\"\").replace(\"M\",\"\").split(\",\")\n",
    "        x = float(x)\n",
    "        y = float(y)\n",
    "        if x > max_x:\n",
    "            max_x = x\n",
    "        if y > max_y:\n",
    "            max_y = y\n",
    "        if x < min_x:\n",
    "            min_x = x\n",
    "        if y < min_y:\n",
    "            min_y = y\n",
    "    #return f\"{round(float(min_x+20), 3)} {round(float(min_y+20), 3)} {round(float(max_x-min_x+40), 3)} {round(float(max_y-min_y+40), 3)}\"\n",
    "    return f\"{round(float(min_x-5), 3)} {round(float(min_y-5), 3)} {round(float(max_x-min_x+10), 3)} {round(float(max_y-min_y+10), 3)}\"\n",
    "    "
   ]
  },
  {
   "cell_type": "code",
   "execution_count": null,
   "id": "67d82987",
   "metadata": {},
   "outputs": [],
   "source": []
  },
  {
   "cell_type": "code",
   "execution_count": 26,
   "id": "b37b4a51",
   "metadata": {},
   "outputs": [],
   "source": [
    "# Change size of shape"
   ]
  },
  {
   "cell_type": "code",
   "execution_count": 27,
   "id": "63e6849b",
   "metadata": {
    "scrolled": true
   },
   "outputs": [],
   "source": [
    "for idx, line in svgDict.items():\n",
    "    if idx != 0 and idx not in blocked_stroek:\n",
    "        #cont = svgDict[idx].split(\"\\n\")\n",
    "        #match = re.search(r'path', line)\n",
    "        pattern = r'<path[^>]*\\s+d=\"([^\"]+)\"'\n",
    "        \n",
    "        matches = re.findall(pattern, line)\n",
    "        \n",
    "        extremePoints[idx] = findExtremePoints(matches[0])"
   ]
  },
  {
   "cell_type": "code",
   "execution_count": null,
   "id": "05222c5e",
   "metadata": {},
   "outputs": [],
   "source": []
  },
  {
   "cell_type": "code",
   "execution_count": 31,
   "id": "8ba0b672",
   "metadata": {},
   "outputs": [],
   "source": [
    "# Write SVGs"
   ]
  },
  {
   "cell_type": "code",
   "execution_count": 32,
   "id": "c3b02049",
   "metadata": {
    "scrolled": true
   },
   "outputs": [],
   "source": [
    "for idx in range(1,len(filecontent)):\n",
    "    if idx not in blocked_stroek:\n",
    "        filename = f\"../public/images/countries/{idx}/vector.svg\"\n",
    "        #os.makedirs(os.path.dirname(filename), exist_ok=True)\n",
    "        with open(f\"{filename}\",\"w\") as toWrite:\n",
    "            toWrite.write(f\"<svg xmlns=\\\"http://www.w3.org/2000/svg\\\" version=\\\"1.2\\\" baseProfile=\\\"tiny\\\" xmlns:inkscape=\\\"http://www.inkscape.org/namespaces/inkscape\\\" width=\\\"315.045mm\\\" viewBox=\\\"{extremePoints[idx]}\\\" height=\\\"227.076mm\\\" xmlns:xlink=\\\"http://www.w3.org/1999/xlink\\\" xmlns:cc=\\\"http://creativecommons.org/ns#\\\">\\n\")\n",
    "            toWrite.write(f\"{svgDict[idx]}\\n\")\n",
    "            toWrite.write(\"</svg>\")"
   ]
  },
  {
   "cell_type": "code",
   "execution_count": null,
   "id": "d8d0c71e",
   "metadata": {},
   "outputs": [],
   "source": []
  }
 ],
 "metadata": {
  "kernelspec": {
   "display_name": "Python 3 (ipykernel)",
   "language": "python",
   "name": "python3"
  },
  "language_info": {
   "codemirror_mode": {
    "name": "ipython",
    "version": 3
   },
   "file_extension": ".py",
   "mimetype": "text/x-python",
   "name": "python",
   "nbconvert_exporter": "python",
   "pygments_lexer": "ipython3",
   "version": "3.11.4"
  }
 },
 "nbformat": 4,
 "nbformat_minor": 5
}
