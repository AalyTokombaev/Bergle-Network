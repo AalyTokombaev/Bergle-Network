{
 "cells": [
  {
   "cell_type": "code",
   "execution_count": 142,
   "id": "0734900e",
   "metadata": {},
   "outputs": [],
   "source": [
    "import re\n",
    "import os"
   ]
  },
  {
   "cell_type": "code",
   "execution_count": 143,
   "id": "92c46400",
   "metadata": {},
   "outputs": [],
   "source": [
    "# Read file"
   ]
  },
  {
   "cell_type": "code",
   "execution_count": 144,
   "id": "aa46775e",
   "metadata": {},
   "outputs": [],
   "source": [
    "with open(\"Final28Okt.svg\") as f:\n",
    "    filecontent = f.read().split(\"<defs/>\\n \")[3:]"
   ]
  },
  {
   "cell_type": "code",
   "execution_count": 145,
   "id": "5a4fcbe2",
   "metadata": {
    "scrolled": true
   },
   "outputs": [],
   "source": [
    "len(filecontent)"
   ]
  },
  {
   "cell_type": "code",
   "execution_count": 146,
   "id": "adff9bdb",
   "metadata": {},
   "outputs": [],
   "source": [
    "# Districts not to be part in the game\n",
    "blocked_stroek = []#[7, 38, 79]"
   ]
  },
  {
   "cell_type": "code",
   "execution_count": 147,
   "id": "bd47498a",
   "metadata": {},
   "outputs": [],
   "source": [
    "# Find numbers and sort SVG lines"
   ]
  },
  {
   "cell_type": "code",
   "execution_count": 148,
   "id": "ff485950",
   "metadata": {},
   "outputs": [],
   "source": [
    "svgDict = {}"
   ]
  },
  {
   "cell_type": "code",
   "execution_count": 149,
   "id": "90040954",
   "metadata": {},
   "outputs": [],
   "source": [
    "for idx, single_svg in enumerate(filecontent):\n",
    "    print(f\"NUMMER {idx}\")\n",
    "    print(single_svg)\n",
    "    print(\"================\")"
   ]
  },
  {
   "cell_type": "code",
   "execution_count": 150,
   "id": "bc86e081",
   "metadata": {},
   "outputs": [],
   "source": [
    "for idx, single_svg in enumerate(filecontent):\n",
    "    #print(idx)\n",
    "    if idx not in blocked_stroek:\n",
    "        match = re.search(r'fid_(\\d+)', single_svg)\n",
    "        \n",
    "        lines = single_svg.split(\"\\n\")\n",
    "        newLines = []\n",
    "        for idx, line in enumerate(lines):\n",
    "            #if line.strip().startswith(\"<g inkscape:groupmode=\\\"layer\\\"\"):\n",
    "            if line.strip().startswith(\"<g \") and \"inkscape:groupmode=\\\"layer\\\"\" in line:\n",
    "                newLines.append(line)\n",
    "            #elif line.strip().startswith(\"<g fill-opacity=\\\"1\\\"\"):\n",
    "            elif line.strip().startswith(\"<g \") and \"fill-opacity=\\\"1\\\"\" in line:\n",
    "                l = re.sub(r'transform=\"[^\"]*\"', '', line)\n",
    "                new_stroke_width = 1\n",
    "                l2 = re.sub(r'stroke-width=\"[^\"]+\"', f'stroke-width=\"{new_stroke_width}\"', l)\n",
    "                newLines.append(l2)\n",
    "            #elif line.strip().startswith(\"<path d=\"):\n",
    "            elif line.strip().startswith(\"<path \") and \"d=\" in line:\n",
    "                newLines.append(line)\n",
    "        newLines.append(\"\\n</g>\\n</g>\")\n",
    "                \n",
    "        #print(match)\n",
    "        svgDict[int(match.group(1))] = \"\\n\".join(newLines)"
   ]
  },
  {
   "cell_type": "code",
   "execution_count": 151,
   "id": "b4ba87e2",
   "metadata": {},
   "outputs": [],
   "source": [
    "extremePoints = {}"
   ]
  },
  {
   "cell_type": "code",
   "execution_count": null,
   "id": "4c09c64c",
   "metadata": {},
   "outputs": [],
   "source": []
  },
  {
   "cell_type": "code",
   "execution_count": 152,
   "id": "d0e877d7",
   "metadata": {},
   "outputs": [],
   "source": [
    "def findExtremePoints(pathstr):\n",
    "    arr = pathstr.split()\n",
    "    min_x = float(\"inf\")\n",
    "    min_y = float(\"inf\")\n",
    "    max_x = float(\"-inf\")\n",
    "    max_y = float(\"-inf\")\n",
    "    for a in arr:\n",
    "        x,y = a.replace(\"L\",\"\").replace(\"M\",\"\").split(\",\")\n",
    "        x = float(x)\n",
    "        y = float(y)\n",
    "        if x > max_x:\n",
    "            max_x = x\n",
    "        if y > max_y:\n",
    "            max_y = y\n",
    "        if x < min_x:\n",
    "            min_x = x\n",
    "        if y < min_y:\n",
    "            min_y = y\n",
    "    #return f\"{round(float(min_x+20), 3)} {round(float(min_y+20), 3)} {round(float(max_x-min_x+40), 3)} {round(float(max_y-min_y+40), 3)}\"\n",
    "    return f\"{round(float(min_x-5), 3)} {round(float(min_y-5), 3)} {round(float(max_x-min_x+10), 3)} {round(float(max_y-min_y+10), 3)}\"\n",
    "    "
   ]
  },
  {
   "cell_type": "code",
   "execution_count": null,
   "id": "67d82987",
   "metadata": {},
   "outputs": [],
   "source": []
  },
  {
   "cell_type": "code",
   "execution_count": 153,
   "id": "b37b4a51",
   "metadata": {},
   "outputs": [],
   "source": [
    "# Change size of shape"
   ]
  },
  {
   "cell_type": "code",
   "execution_count": 154,
   "id": "3f37b93e",
   "metadata": {},
   "outputs": [],
   "source": [
    "for idx, line in svgDict.items():\n",
    "    print(idx)\n",
    "    print(line)"
   ]
  },
  {
   "cell_type": "code",
   "execution_count": 155,
   "id": "63e6849b",
   "metadata": {
    "scrolled": true
   },
   "outputs": [],
   "source": [
    "for idx, line in svgDict.items():\n",
    "    print(idx)\n",
    "    print(line)\n",
    "    if idx not in blocked_stroek:\n",
    "        #cont = svgDict[idx].split(\"\\n\")\n",
    "        #match = re.search(r'path', line)\n",
    "        pattern = r'<path[^>]*\\s+d=\"([^\"]+)\"'\n",
    "        \n",
    "        matches = re.findall(pattern, line)\n",
    "        \n",
    "        extremePoints[idx] = findExtremePoints(matches[0])"
   ]
  },
  {
   "cell_type": "code",
   "execution_count": null,
   "id": "05222c5e",
   "metadata": {},
   "outputs": [],
   "source": []
  },
  {
   "cell_type": "code",
   "execution_count": 156,
   "id": "8ba0b672",
   "metadata": {},
   "outputs": [],
   "source": [
    "# Write SVGs"
   ]
  },
  {
   "cell_type": "code",
   "execution_count": 157,
   "id": "60ac03b5",
   "metadata": {},
   "outputs": [],
   "source": [
    "numbers =  [\"1\", \"2\", \"3\", \"4\", \"5\", \"6\", \"8\", \"9\", \"10\", \"11\", \"12\", \"13\", \"14\", \"15\", \"16\", \"17\", \"18\", \"19\", \"20\", \"21\", \"22\", \"23\", \"24\", \"25\", \"26\", \"27\", \"28\", \"29\", \"30\", \"31\", \"32\", \"33\", \"34\", \"35\", \"36\", \"37\", \"39\", \"40\", \"41\", \"42\", \"43\", \"44\", \"45\", \"46\", \"47\", \"48\", \"49\", \"50\", \"51\", \"52\", \"53\", \"54\", \"55\", \"56\", \"57\", \"58\", \"59\", \"60\", \"61\", \"62\", \"63\", \"64\", \"65\", \"66\", \"67\", \"68\", \"69\", \"70\", \"71\", \"72\", \"73\", \"74\", \"75\", \"76\", \"77\", \"78\", \"79\", \"80\", \"81\", \"82\", \"83\", \"84\", \"85\", \"86\", \"87\", \"88\", \"89\", \"90\", \"91\", \"92\", \"93\", \"94\", \"95\", \"96\", \"97\", \"98\", \"99\", \"100\", \"101\", \"102\", \"103\", \"104\", \"105\", \"106\", \"107\", \"108\", \"109\", \"110\", \"111\", \"112\", \"113\"]\n"
   ]
  },
  {
   "cell_type": "code",
   "execution_count": 158,
   "id": "c3b02049",
   "metadata": {
    "scrolled": true
   },
   "outputs": [],
   "source": [
    "for idx in range(1,len(filecontent)+1):\n",
    "    if idx not in blocked_stroek:\n",
    "        filename = f\"../public/images/countries/{idx}/vector.svg\"\n",
    "        os.makedirs(os.path.dirname(filename), exist_ok=True)\n",
    "        with open(f\"{filename}\",\"w\") as toWrite:\n",
    "            toWrite.write(f\"<svg xmlns=\\\"http://www.w3.org/2000/svg\\\" version=\\\"1.2\\\" baseProfile=\\\"tiny\\\" xmlns:inkscape=\\\"http://www.inkscape.org/namespaces/inkscape\\\" width=\\\"315.045mm\\\" viewBox=\\\"{extremePoints[idx]}\\\" height=\\\"227.076mm\\\" xmlns:xlink=\\\"http://www.w3.org/1999/xlink\\\" xmlns:cc=\\\"http://creativecommons.org/ns#\\\">\\n\")\n",
    "            toWrite.write(f\"{svgDict[idx]}\\n\")\n",
    "            toWrite.write(\"</svg>\")"
   ]
  },
  {
   "cell_type": "code",
   "execution_count": null,
   "id": "d8d0c71e",
   "metadata": {},
   "outputs": [],
   "source": []
  }
 ],
 "metadata": {
  "kernelspec": {
   "display_name": "Python 3 (ipykernel)",
   "language": "python",
   "name": "python3"
  },
  "language_info": {
   "codemirror_mode": {
    "name": "ipython",
    "version": 3
   },
   "file_extension": ".py",
   "mimetype": "text/x-python",
   "name": "python",
   "nbconvert_exporter": "python",
   "pygments_lexer": "ipython3",
   "version": "3.11.4"
  }
 },
 "nbformat": 4,
 "nbformat_minor": 5
}
