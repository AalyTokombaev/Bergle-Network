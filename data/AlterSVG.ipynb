{
 "cells": [
  {
   "cell_type": "code",
   "execution_count": 99,
   "id": "0734900e",
   "metadata": {},
   "outputs": [],
   "source": [
    "import re\n",
    "import os"
   ]
  },
  {
   "cell_type": "code",
   "execution_count": 100,
   "id": "92c46400",
   "metadata": {},
   "outputs": [],
   "source": [
    "# Read file"
   ]
  },
  {
   "cell_type": "code",
   "execution_count": 101,
   "id": "aa46775e",
   "metadata": {},
   "outputs": [],
   "source": [
    "with open(\"Standard2.svg\") as f:\n",
    "    filecontent = f.read().split(\"<defs/>\\n \")"
   ]
  },
  {
   "cell_type": "code",
   "execution_count": 102,
   "id": "5a4fcbe2",
   "metadata": {
    "scrolled": true
   },
   "outputs": [
    {
     "data": {
      "text/plain": [
       "94"
      ]
     },
     "execution_count": 102,
     "metadata": {},
     "output_type": "execute_result"
    }
   ],
   "source": [
    "len(filecontent)"
   ]
  },
  {
   "cell_type": "code",
   "execution_count": null,
   "id": "adff9bdb",
   "metadata": {},
   "outputs": [],
   "source": []
  },
  {
   "cell_type": "code",
   "execution_count": 103,
   "id": "bd47498a",
   "metadata": {},
   "outputs": [],
   "source": [
    "# Find numbers and sort SVG lines"
   ]
  },
  {
   "cell_type": "code",
   "execution_count": 104,
   "id": "ff485950",
   "metadata": {},
   "outputs": [],
   "source": [
    "svgDict = {}"
   ]
  },
  {
   "cell_type": "code",
   "execution_count": 105,
   "id": "bc86e081",
   "metadata": {},
   "outputs": [],
   "source": [
    "for idx, line in enumerate(filecontent):\n",
    "    if idx != 0:\n",
    "        match = re.search(r'fid_(\\d+)', line)\n",
    "        svgDict[int(match.group(1))] = line"
   ]
  },
  {
   "cell_type": "code",
   "execution_count": 106,
   "id": "b4ba87e2",
   "metadata": {},
   "outputs": [],
   "source": [
    "extremePoints = {}"
   ]
  },
  {
   "cell_type": "code",
   "execution_count": null,
   "id": "15f74335",
   "metadata": {},
   "outputs": [],
   "source": []
  },
  {
   "cell_type": "code",
   "execution_count": 107,
   "id": "d0e877d7",
   "metadata": {},
   "outputs": [],
   "source": [
    "def findExtremePoints(pathstr):\n",
    "    arr = pathstr.split()\n",
    "    min_x = float(\"inf\")\n",
    "    min_y = float(\"inf\")\n",
    "    max_x = float(\"-inf\")\n",
    "    max_y = float(\"-inf\")\n",
    "    for a in arr:\n",
    "        x,y = a.replace(\"L\",\"\").replace(\"M\",\"\").split(\",\")\n",
    "        x = float(x)\n",
    "        y = float(y)\n",
    "        if x > max_x:\n",
    "            max_x = x\n",
    "        if y > max_y:\n",
    "            max_y = y\n",
    "        if x < min_x:\n",
    "            min_x = x\n",
    "        if y < min_y:\n",
    "            min_y = y\n",
    "    return f\"{round(float(min_x+20), 3)} {round(float(min_y+20), 3)} {round(float(max_x-min_x+40), 3)} {round(float(max_y-min_y+40), 3)}\"\n",
    "    "
   ]
  },
  {
   "cell_type": "code",
   "execution_count": null,
   "id": "67d82987",
   "metadata": {},
   "outputs": [],
   "source": []
  },
  {
   "cell_type": "code",
   "execution_count": 108,
   "id": "b37b4a51",
   "metadata": {},
   "outputs": [],
   "source": [
    "# Change size of shape"
   ]
  },
  {
   "cell_type": "code",
   "execution_count": 109,
   "id": "63e6849b",
   "metadata": {
    "scrolled": true
   },
   "outputs": [],
   "source": [
    "for idx, line in svgDict.items():\n",
    "    if idx != 0:\n",
    "        #cont = svgDict[idx].split(\"\\n\")\n",
    "        #match = re.search(r'path', line)\n",
    "        pattern = r'<path[^>]*\\s+d=\"([^\"]+)\"'\n",
    "        \n",
    "        matches = re.findall(pattern, line)\n",
    "        \n",
    "        extremePoints[idx] = findExtremePoints(matches[0])"
   ]
  },
  {
   "cell_type": "code",
   "execution_count": 110,
   "id": "0b970044",
   "metadata": {
    "scrolled": true
   },
   "outputs": [
    {
     "data": {
      "text/plain": [
       "{59: '3394.75 2612.24 80.05 83.71',\n",
       " 70: '3097.5 1749.32 310.39 216.32',\n",
       " 69: '3021.02 1461.22 281.12 368.13',\n",
       " 68: '3040.42 1270.8 428.56 320.93',\n",
       " 67: '3637.71 1689.2 257.23 260.42',\n",
       " 66: '3442.07 1682.19 254.48 285.28',\n",
       " 65: '3208.52 1537.5 349.73 369.03',\n",
       " 64: '3069.7 1084.1 169.28 227.69',\n",
       " 63: '3277.6 2650.09 123.22 106.82',\n",
       " 62: '3304.9 2691.58 103.65 106.12',\n",
       " 61: '3347.83 2690.75 125.32 106.27',\n",
       " 60: '3323.08 2733.67 111.25 101.47',\n",
       " 71: '3385.99 2010.67 191.97 190.33',\n",
       " 58: '3425.34 2643.49 80.54 103.12',\n",
       " 57: '3334.38 2628.86 133.75 101.02',\n",
       " 56: '3402.31 2665.53 100.57 107.15',\n",
       " 55: '3430.52 2722.89 92.92 97.28',\n",
       " 54: '3391.37 2737.12 119.4 130.01',\n",
       " 53: '3364.19 2759.65 95.8 94.77',\n",
       " 52: '3448.45 2642.67 96.74 102.13',\n",
       " 51: '3416.37 2586.75 141.16 116.32',\n",
       " 50: '3473.24 2699.46 140.66 161.01',\n",
       " 49: '3449.89 2694.77 140.2 176.35',\n",
       " 48: '3461.56 2770.8 122.9 102.42',\n",
       " 82: '3393.09 3827.31 230.15 328.84',\n",
       " 93: '3125.71 4035.14 334.44 415.07',\n",
       " 92: '3404.69 3951.33 374.57 396.08',\n",
       " 91: '3848.48 3761.23 532.14 508.95',\n",
       " 90: '3632.58 3885.95 315.77 277.97',\n",
       " 89: '4240.31 2662.49 564.94 747.71',\n",
       " 88: '4357.48 2917.2 571.3 463.22',\n",
       " 87: '3798.19 3153.86 532.18 560.93',\n",
       " 86: '3762.78 3536.04 299.81 425.31',\n",
       " 85: '3502.64 3644.0 210.35 340.75',\n",
       " 84: '3586.2 3668.34 268.88 317.32',\n",
       " 83: '3571.72 3815.05 191.66 250.88',\n",
       " 47: '3307.29 2772.77 155.13 134.99',\n",
       " 81: '3221.69 3878.88 224.23 261.48',\n",
       " 80: '3097.34 3912.1 203.83 268.97',\n",
       " 79: '2940.42 3881.51 278.51 373.09',\n",
       " 78: '2717.37 3856.92 333.78 386.74',\n",
       " 77: '2874.46 3621.53 201.36 173.57',\n",
       " 76: '3832.59 1857.82 651.99 1349.33',\n",
       " 75: '3652.93 1810.57 350.67 483.69',\n",
       " 74: '3487.0 2097.19 412.69 375.07',\n",
       " 73: '3149.64 2072.02 298.8 429.48',\n",
       " 72: '3150.79 1996.53 414.67 277.5',\n",
       " 12: '2762.39 3040.65 93.89 190.28',\n",
       " 23: '3609.23 3202.89 150.21 265.79',\n",
       " 22: '3572.03 3293.81 161.05 272.11',\n",
       " 21: '3614.54 3361.3 362.66 369.46',\n",
       " 20: '3666.62 3047.51 165.51 335.29',\n",
       " 19: '3668.0 3252.68 158.61 326.1',\n",
       " 18: '3498.38 3347.43 123.32 142.5',\n",
       " 17: '3410.38 3347.85 149.36 190.12',\n",
       " 16: '3425.79 3161.88 229.39 296.97',\n",
       " 15: '3562.71 3077.14 179.19 211.66',\n",
       " 14: '3525.48 2880.01 232.15 247.46',\n",
       " 13: '3498.09 2950.58 220.43 238.1',\n",
       " 24: '5251.99 2216.4 538.23 585.0',\n",
       " 11: '2680.56 3045.01 149.68 269.88',\n",
       " 10: '2361.4 2784.52 361.5 387.74',\n",
       " 9: '2618.7 2771.23 204.52 331.21',\n",
       " 8: '2669.29 2687.8 212.07 397.95',\n",
       " 7: '2782.69 2643.17 226.95 574.48',\n",
       " 6: '2917.35 2699.39 193.36 306.12',\n",
       " 5: '3050.3 2714.9 103.77 260.0',\n",
       " 4: '3110.67 2740.34 166.69 150.82',\n",
       " 3: '3193.28 2802.27 201.55 210.89',\n",
       " 2: '3319.69 2889.27 148.12 135.76',\n",
       " 35: '3653.23 3468.85 281.46 327.7',\n",
       " 46: '3407.29 2807.72 182.27 161.1',\n",
       " 45: '3358.77 2853.94 175.52 137.04',\n",
       " 44: '3511.07 2780.09 216.15 167.98',\n",
       " 43: '3379.49 2399.58 176.84 233.75',\n",
       " 42: '2776.85 3113.03 230.78 436.84',\n",
       " 41: '3159.46 3065.04 234.9 496.41',\n",
       " 40: '2912.89 3156.33 412.41 353.58',\n",
       " 39: '2891.1 2901.64 229.81 385.11',\n",
       " 38: '3231.84 2955.03 300.87 651.5',\n",
       " 37: '3268.16 3490.06 200.07 241.03',\n",
       " 36: '3230.23 2948.79 139.48 184.74',\n",
       " 1: '3392.1 2947.62 227.05 302.72',\n",
       " 34: '3512.3 1590.84 314.63 259.73',\n",
       " 33: '3702.75 1209.62 508.06 568.31',\n",
       " 32: '3393.27 1317.07 391.14 403.9',\n",
       " 31: '3718.06 1533.03 442.58 381.79',\n",
       " 30: '3559.49 1040.74 357.99 396.78',\n",
       " 29: '3176.88 886.847 485.53 451.623',\n",
       " 28: '4320.45 2136.69 334.18 632.19',\n",
       " 27: '4046.67 1692.02 363.94 492.32',\n",
       " 26: '4390.17 1953.79 358.3 493.17',\n",
       " 25: '4659.16 2332.88 656.63 397.95'}"
      ]
     },
     "execution_count": 110,
     "metadata": {},
     "output_type": "execute_result"
    }
   ],
   "source": [
    "extremePoints"
   ]
  },
  {
   "cell_type": "code",
   "execution_count": null,
   "id": "05222c5e",
   "metadata": {},
   "outputs": [],
   "source": []
  },
  {
   "cell_type": "code",
   "execution_count": null,
   "id": "b3e85ca0",
   "metadata": {},
   "outputs": [],
   "source": []
  },
  {
   "cell_type": "code",
   "execution_count": 111,
   "id": "8ba0b672",
   "metadata": {},
   "outputs": [],
   "source": [
    "# Write SVGs"
   ]
  },
  {
   "cell_type": "code",
   "execution_count": 112,
   "id": "c3b02049",
   "metadata": {
    "scrolled": true
   },
   "outputs": [],
   "source": [
    "for idx in range(1,len(filecontent)):\n",
    "    filename = f\"public/images/countries/{idx}/vector.svg\"\n",
    "    #os.makedirs(os.path.dirname(filename), exist_ok=True)\n",
    "    with open(f\"{filename}\",\"w\") as toWrite:\n",
    "        toWrite.write(f\"<svg xmlns=\\\"http://www.w3.org/2000/svg\\\" version=\\\"1.2\\\" baseProfile=\\\"tiny\\\" xmlns:inkscape=\\\"http://www.inkscape.org/namespaces/inkscape\\\" width=\\\"315.045mm\\\" viewBox=\\\"{extremePoints[idx]}\\\" height=\\\"227.076mm\\\" xmlns:xlink=\\\"http://www.w3.org/1999/xlink\\\" xmlns:cc=\\\"http://creativecommons.org/ns#\\\">\\n\")\n",
    "        toWrite.write(f\"{svgDict[idx]}\\n\")\n",
    "        toWrite.write(\"</svg>\")"
   ]
  },
  {
   "cell_type": "code",
   "execution_count": null,
   "id": "d8d0c71e",
   "metadata": {},
   "outputs": [],
   "source": []
  }
 ],
 "metadata": {
  "kernelspec": {
   "display_name": "Python 3 (ipykernel)",
   "language": "python",
   "name": "python3"
  },
  "language_info": {
   "codemirror_mode": {
    "name": "ipython",
    "version": 3
   },
   "file_extension": ".py",
   "mimetype": "text/x-python",
   "name": "python",
   "nbconvert_exporter": "python",
   "pygments_lexer": "ipython3",
   "version": "3.11.4"
  }
 },
 "nbformat": 4,
 "nbformat_minor": 5
}
